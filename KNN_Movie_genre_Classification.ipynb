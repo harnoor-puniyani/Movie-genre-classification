{
  "nbformat": 4,
  "nbformat_minor": 0,
  "metadata": {
    "colab": {
      "name": "KNN Movie genre Classification.ipynb",
      "provenance": [],
      "collapsed_sections": []
    },
    "kernelspec": {
      "name": "python3",
      "display_name": "Python 3"
    },
    "language_info": {
      "name": "python"
    }
  },
  "cells": [
    {
      "cell_type": "markdown",
      "metadata": {
        "id": "eToAg8_PaqpQ"
      },
      "source": [
        "### Importing the required Libraries"
      ]
    },
    {
      "cell_type": "code",
      "metadata": {
        "id": "UCRV5aizagAR"
      },
      "source": [
        "import numpy as np\n",
        "import pandas as pd\n",
        "import matplotlib.pyplot as plt\n",
        "from sklearn.model_selection import train_test_split\n",
        "from tqdm import tqdm\n",
        "from tensorflow.keras.preprocessing import image"
      ],
      "execution_count": null,
      "outputs": []
    },
    {
      "cell_type": "code",
      "metadata": {
        "id": "PqlQtf4MaxHc"
      },
      "source": [
        "import os\n",
        "import csv"
      ],
      "execution_count": null,
      "outputs": []
    },
    {
      "cell_type": "code",
      "metadata": {
        "colab": {
          "base_uri": "https://localhost:8080/"
        },
        "id": "dunAGWtndi__",
        "outputId": "da271259-1a5f-4ef1-fe82-1ab2c715affd"
      },
      "source": [
        "!pip install scikit-multilearn"
      ],
      "execution_count": null,
      "outputs": [
        {
          "output_type": "stream",
          "text": [
            "Collecting scikit-multilearn\n",
            "\u001b[?25l  Downloading https://files.pythonhosted.org/packages/bb/1f/e6ff649c72a1cdf2c7a1d31eb21705110ce1c5d3e7e26b2cc300e1637272/scikit_multilearn-0.2.0-py3-none-any.whl (89kB)\n",
            "\r\u001b[K     |███▊                            | 10kB 13.5MB/s eta 0:00:01\r\u001b[K     |███████▍                        | 20kB 11.6MB/s eta 0:00:01\r\u001b[K     |███████████                     | 30kB 8.5MB/s eta 0:00:01\r\u001b[K     |██████████████▊                 | 40kB 7.3MB/s eta 0:00:01\r\u001b[K     |██████████████████▍             | 51kB 4.4MB/s eta 0:00:01\r\u001b[K     |██████████████████████          | 61kB 5.0MB/s eta 0:00:01\r\u001b[K     |█████████████████████████▊      | 71kB 5.1MB/s eta 0:00:01\r\u001b[K     |█████████████████████████████▍  | 81kB 5.4MB/s eta 0:00:01\r\u001b[K     |████████████████████████████████| 92kB 3.5MB/s \n",
            "\u001b[?25hInstalling collected packages: scikit-multilearn\n",
            "Successfully installed scikit-multilearn-0.2.0\n"
          ],
          "name": "stdout"
        }
      ]
    },
    {
      "cell_type": "code",
      "metadata": {
        "id": "eBrgB3P9dWgb"
      },
      "source": [
        "from skmultilearn.adapt import MLkNN"
      ],
      "execution_count": null,
      "outputs": []
    },
    {
      "cell_type": "markdown",
      "metadata": {
        "id": "GKYybRoyh8XO"
      },
      "source": [
        "### Importing the Dataset"
      ]
    },
    {
      "cell_type": "code",
      "metadata": {
        "colab": {
          "base_uri": "https://localhost:8080/"
        },
        "id": "iCKl2Du2a5hj",
        "outputId": "4d1472f8-0d5e-43a3-daa8-a633fac2e4a2"
      },
      "source": [
        "!git clone https://github.com/harnoor-puniyani/Movie-genre-classification-dataset"
      ],
      "execution_count": null,
      "outputs": [
        {
          "output_type": "stream",
          "text": [
            "Cloning into 'Movie-genre-classification-dataset'...\n",
            "remote: Enumerating objects: 7873, done.\u001b[K\n",
            "remote: Counting objects: 100% (1/1), done.\u001b[K\n",
            "remote: Total 7873 (delta 0), reused 1 (delta 0), pack-reused 7872\u001b[K\n",
            "Receiving objects: 100% (7873/7873), 246.59 MiB | 37.49 MiB/s, done.\n",
            "Resolving deltas: 100% (1/1), done.\n",
            "Checking out files: 100% (7871/7871), done.\n"
          ],
          "name": "stdout"
        }
      ]
    },
    {
      "cell_type": "code",
      "metadata": {
        "id": "AsXksmPlbBHi"
      },
      "source": [
        "data = pd.read_csv('/content/Movie-genre-classification-dataset/train.csv')"
      ],
      "execution_count": null,
      "outputs": []
    },
    {
      "cell_type": "markdown",
      "metadata": {
        "id": "eugSLLmsiIB7"
      },
      "source": [
        "###Spliting the CSV file"
      ]
    },
    {
      "cell_type": "code",
      "metadata": {
        "id": "B2jgVJ2UbR5Q"
      },
      "source": [
        "def split_csv(filehandler, delimiter=',', row_limit=900, \n",
        "    output_name_template='output_%s.csv', output_path='.', keep_headers=True):\n",
        "  reader = csv.reader(filehandler, delimiter=delimiter)\n",
        "  current_piece = 1\n",
        "  current_out_path = os.path.join(\n",
        "    output_path,\n",
        "    output_name_template  % current_piece\n",
        "  )\n",
        "  current_out_writer = csv.writer(open(current_out_path, 'w'), delimiter=delimiter)\n",
        "  current_limit = row_limit\n",
        "  if keep_headers:\n",
        "    headers = next(reader)\n",
        "    current_out_writer.writerow(headers)\n",
        "  for i, row in enumerate(reader):\n",
        "    if i + 1 > current_limit:\n",
        "        current_piece += 1\n",
        "        current_limit = row_limit * current_piece\n",
        "        current_out_path = os.path.join(\n",
        "           output_path,\n",
        "           output_name_template  % current_piece\n",
        "        )\n",
        "        current_out_writer = csv.writer(open(current_out_path, 'w'), delimiter=delimiter)\n",
        "        if keep_headers:\n",
        "            current_out_writer.writerow(headers)\n",
        "    current_out_writer.writerow(row)"
      ],
      "execution_count": null,
      "outputs": []
    },
    {
      "cell_type": "code",
      "metadata": {
        "id": "zHehwv8tbjt3"
      },
      "source": [
        "split_csv(open('/content/Movie-genre-classification-dataset/train.csv','r'));"
      ],
      "execution_count": null,
      "outputs": []
    },
    {
      "cell_type": "code",
      "metadata": {
        "id": "AMGoW_eybtBE"
      },
      "source": [
        "data1 = pd.read_csv('/content/output_1.csv')"
      ],
      "execution_count": null,
      "outputs": []
    },
    {
      "cell_type": "code",
      "metadata": {
        "colab": {
          "base_uri": "https://localhost:8080/"
        },
        "id": "sUIgDc6NbwZg",
        "outputId": "c90aad64-4990-494b-891c-27a515aa1673"
      },
      "source": [
        "data1.shape"
      ],
      "execution_count": null,
      "outputs": [
        {
          "output_type": "execute_result",
          "data": {
            "text/plain": [
              "(900, 27)"
            ]
          },
          "metadata": {
            "tags": []
          },
          "execution_count": 10
        }
      ]
    },
    {
      "cell_type": "markdown",
      "metadata": {
        "id": "vqmUAoBgiO7V"
      },
      "source": [
        "###Pre-processing the Data"
      ]
    },
    {
      "cell_type": "code",
      "metadata": {
        "colab": {
          "base_uri": "https://localhost:8080/"
        },
        "id": "hIWy4JfZbzvx",
        "outputId": "a5f7f947-f173-4bda-93cc-2946072b6281"
      },
      "source": [
        "img_width = 350\n",
        "img_height = 350\n",
        "\n",
        "x =[]\n",
        "\n",
        "  \n",
        "for i in tqdm(range(data1.shape[0])):\n",
        "  path = '/content/Movie-genre-classification-dataset/Images/' + data1['Id'][i] + '.jpg'\n",
        "  img = image.load_img(path, target_size=(img_width,img_height,3))\n",
        "  img = image.img_to_array(img)\n",
        "  img = img/255.0\n",
        "  x.append(img)\n",
        "x=np.array(x)\n",
        "# image.save_img(path = '/content/processed_data/', x, data_format=None, file_format='jpg', scale=False)\n"
      ],
      "execution_count": null,
      "outputs": [
        {
          "output_type": "stream",
          "text": [
            "100%|██████████| 900/900 [00:04<00:00, 213.64it/s]\n"
          ],
          "name": "stderr"
        }
      ]
    },
    {
      "cell_type": "markdown",
      "metadata": {
        "id": "eDaLzVzviTX7"
      },
      "source": [
        "###Splitting Data for Training and Testing"
      ]
    },
    {
      "cell_type": "code",
      "metadata": {
        "colab": {
          "base_uri": "https://localhost:8080/"
        },
        "id": "zaoFEidFdJsZ",
        "outputId": "5c485bc6-3eb8-496a-ec77-1da3df40ae4a"
      },
      "source": [
        "y = data1.drop(['Id', 'Genre'], axis = 1)\n",
        "y = y.to_numpy()\n",
        "y.shape"
      ],
      "execution_count": null,
      "outputs": [
        {
          "output_type": "execute_result",
          "data": {
            "text/plain": [
              "(900, 25)"
            ]
          },
          "metadata": {
            "tags": []
          },
          "execution_count": 17
        }
      ]
    },
    {
      "cell_type": "code",
      "metadata": {
        "id": "LJoUnB5MdPP3"
      },
      "source": [
        "x_train, x_test, y_train, y_test = train_test_split(x, y, random_state = 0, test_size = 0.25)"
      ],
      "execution_count": null,
      "outputs": []
    },
    {
      "cell_type": "code",
      "metadata": {
        "colab": {
          "base_uri": "https://localhost:8080/"
        },
        "id": "XfAyVYBudStF",
        "outputId": "1204b19b-00d9-4911-f999-6856e61ef205"
      },
      "source": [
        "x_train[0].shape"
      ],
      "execution_count": null,
      "outputs": [
        {
          "output_type": "execute_result",
          "data": {
            "text/plain": [
              "(350, 350, 3)"
            ]
          },
          "metadata": {
            "tags": []
          },
          "execution_count": 19
        }
      ]
    },
    {
      "cell_type": "markdown",
      "metadata": {
        "id": "geOryG2miyH5"
      },
      "source": [
        "###Training and Testing the Model"
      ]
    },
    {
      "cell_type": "code",
      "metadata": {
        "id": "_FVmevehdqx9"
      },
      "source": [
        "classifier = MLkNN(k=3)"
      ],
      "execution_count": null,
      "outputs": []
    },
    {
      "cell_type": "code",
      "metadata": {
        "id": "2WBI_mpmd0s2"
      },
      "source": [
        "nsamples, nx, ny ,nz= x_train.shape\n",
        "xx_train = x_train.reshape((nsamples,nx*ny*nz))"
      ],
      "execution_count": null,
      "outputs": []
    },
    {
      "cell_type": "code",
      "metadata": {
        "id": "1K8iGK2afwFN"
      },
      "source": [
        "test_samples,testx,testy,testz = x_test.shape\n",
        "xx_test = x_test.reshape((test_samples,testx*testy*testz))"
      ],
      "execution_count": null,
      "outputs": []
    },
    {
      "cell_type": "code",
      "metadata": {
        "colab": {
          "base_uri": "https://localhost:8080/"
        },
        "id": "FIf-IZF1dv5O",
        "outputId": "f108cbb1-553e-4535-a12c-daf44bf42aa7"
      },
      "source": [
        "classifier.fit(xx_train, y_train)"
      ],
      "execution_count": null,
      "outputs": [
        {
          "output_type": "execute_result",
          "data": {
            "text/plain": [
              "MLkNN(ignore_first_neighbours=0, k=3, s=1.0)"
            ]
          },
          "metadata": {
            "tags": []
          },
          "execution_count": 25
        }
      ]
    },
    {
      "cell_type": "code",
      "metadata": {
        "id": "SImH929jdv00"
      },
      "source": [
        "predictions = classifier.predict(xx_test)"
      ],
      "execution_count": null,
      "outputs": []
    },
    {
      "cell_type": "code",
      "metadata": {
        "id": "2GkAIMDJdvx1"
      },
      "source": [
        "Acc = classifier.score(xx_test,y_test)"
      ],
      "execution_count": null,
      "outputs": []
    },
    {
      "cell_type": "code",
      "metadata": {
        "colab": {
          "base_uri": "https://localhost:8080/"
        },
        "id": "pLIQDMqcdvqL",
        "outputId": "8f55605f-2ea0-4b0c-998a-ed7b07fe5121"
      },
      "source": [
        "print(f\"Accuracy {Acc*100}\")"
      ],
      "execution_count": null,
      "outputs": [
        {
          "output_type": "stream",
          "text": [
            "Accuracy 3.5555555555555554\n"
          ],
          "name": "stdout"
        }
      ]
    }
  ]
}